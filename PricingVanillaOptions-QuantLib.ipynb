{
 "cells": [
  {
   "cell_type": "markdown",
   "metadata": {},
   "source": [
    "In this note book we will price a vanilla call option using QuantLib. The payoff of the option is plain vanilla (S_t - K). We price differnt option exercise types - European, American and Bermudan. We will price the option using different pricing methods - analytic, binomial tree, finite differential and monte carlo. We also vary the underlying process between bsm and heston."
   ]
  },
  {
   "cell_type": "markdown",
   "metadata": {},
   "source": [
    "Download QuantLib from Anaconda prompt using: pip install QuantLib-Python.\n",
    "Next import Quantlib."
   ]
  },
  {
   "cell_type": "code",
   "execution_count": 1,
   "metadata": {},
   "outputs": [],
   "source": [
    "import QuantLib as ql\n",
    "import matplotlib.pyplot as plt\n",
    "%matplotlib inline"
   ]
  },
  {
   "cell_type": "markdown",
   "metadata": {},
   "source": [
    "The option data is set here:"
   ]
  },
  {
   "cell_type": "code",
   "execution_count": 2,
   "metadata": {},
   "outputs": [],
   "source": [
    "# option data\n",
    "maturity_date = ql.Date(15, 1, 2020)\n",
    "spot_price = 127.62\n",
    "strike_price = 130\n",
    "volatility = 0.20 # the historical vols for a year\n",
    "dividend_rate =  0.0163\n",
    "option_type = ql.Option.Call #CallOrPut\n",
    "\n",
    "risk_free_rate = 0.001\n",
    "day_count = ql.Actual365Fixed()\n",
    "calendar = ql.UnitedStates()\n",
    "\n",
    "calculation_date = ql.Date(1, 3, 2019) \n",
    "ql.Settings.instance().evaluationDate = calculation_date"
   ]
  },
  {
   "cell_type": "markdown",
   "metadata": {},
   "source": [
    "Construct the option by setting payoff (S_t-K) and exercise type (european, american or bermudan)."
   ]
  },
  {
   "cell_type": "code",
   "execution_count": 4,
   "metadata": {},
   "outputs": [],
   "source": [
    "# construct the European Option, American Option\n",
    "payoff = ql.PlainVanillaPayoff(option_type, strike_price)\n",
    "settlement = calculation_date\n",
    "bermuda_dates = ql.Schedule(ql.Date(1, 3, 2019), maturity_date, ql.Period(ql.Monthly), calendar, ql.Following,\n",
    "                           ql.Following, ql.DateGeneration.Forward, False)\n",
    "\n",
    "exercise_eu = ql.EuropeanExercise(maturity_date) \n",
    "exercise_am = ql.AmericanExercise(settlement, maturity_date)\n",
    "exercise_bm = ql.BermudanExercise(list(bermuda_dates))\n",
    "european_option = ql.VanillaOption(payoff, exercise_eu)\n",
    "american_option = ql.VanillaOption(payoff, exercise_am)\n",
    "bermudan_option = ql.VanillaOption(payoff, exercise_bm)"
   ]
  },
  {
   "cell_type": "markdown",
   "metadata": {},
   "source": [
    "Setting up the process. Here we are using BSM. We can also use Heston process."
   ]
  },
  {
   "cell_type": "code",
   "execution_count": 5,
   "metadata": {},
   "outputs": [],
   "source": [
    "#BSM Process\n",
    "spot_handle = ql.QuoteHandle(\n",
    "    ql.SimpleQuote(spot_price)\n",
    ")\n",
    "\n",
    "flat_ts = ql.YieldTermStructureHandle(\n",
    "    ql.FlatForward(calculation_date, risk_free_rate, day_count)\n",
    ")\n",
    "\n",
    "dividend_yield = ql.YieldTermStructureHandle(\n",
    "    ql.FlatForward(calculation_date, dividend_rate, day_count)\n",
    ")\n",
    "\n",
    "flat_vol_ts = ql.BlackVolTermStructureHandle(\n",
    "    ql.BlackConstantVol(calculation_date, calendar, volatility, day_count)\n",
    ")\n",
    "\n",
    "bsm_process = ql.BlackScholesMertonProcess(spot_handle, \n",
    "                                           dividend_yield, \n",
    "                                           flat_ts, \n",
    "                                           flat_vol_ts)\n",
    "#HestonProcess\n",
    "\"\"\"\n",
    "In order to create the Heston process, we use the parameter values: mean reversion strength kappa = 0.1, the\n",
    "spot variance v0 = volatility*volatility = 0.04, the mean reversion variance theta=v0,\n",
    "volatility of volatility sigma = 0.1 and the correlation between the asset price and its variance is\n",
    "rho = -0.75\n",
    "\"\"\"\n",
    "v0=volatility*volatility #Spot Variance\n",
    "kappa = 0.1\n",
    "theta = v0\n",
    "sigma = 0.1\n",
    "rho = -0.75\n",
    "\n",
    "heston_process = ql.HestonProcess(flat_ts, dividend_yield,spot_handle,\n",
    "                                  v0, kappa, theta, sigma, rho)"
   ]
  },
  {
   "cell_type": "markdown",
   "metadata": {},
   "source": [
    "The process can be priced using different pricing engines. Here we are performed using \"AnalyticEuropeanEngine\"."
   ]
  },
  {
   "cell_type": "code",
   "execution_count": 6,
   "metadata": {},
   "outputs": [
    {
     "name": "stdout",
     "output_type": "stream",
     "text": [
      "The theoretical price of european option is 7.636460507698542\n",
      "The heston model price for european option is 7.352069734775412\n"
     ]
    }
   ],
   "source": [
    "engine = ql.AnalyticEuropeanEngine(bsm_process)\n",
    "\n",
    "european_option.setPricingEngine(engine)\n",
    "bs_price = european_option.NPV()\n",
    "print (\"The theoretical price of european option is\" , bs_price)\n",
    "\n",
    "h_engine = ql.AnalyticHestonEngine(ql.HestonModel(heston_process), 0.01, 1000)\n",
    "european_option.setPricingEngine(h_engine)\n",
    "h_price = european_option.NPV()\n",
    "print (\"The heston model price for european option is\" , h_price)"
   ]
  },
  {
   "cell_type": "markdown",
   "metadata": {},
   "source": [
    "Pricing using Binomial Tree"
   ]
  },
  {
   "cell_type": "code",
   "execution_count": 7,
   "metadata": {},
   "outputs": [
    {
     "name": "stdout",
     "output_type": "stream",
     "text": [
      "The binomial tree price of european option is 7.644436140681128\n",
      "The binomial tree price of american option is 7.76441381748751\n",
      "The binomial tree price of bermudan option is 7.746982786230324\n"
     ]
    }
   ],
   "source": [
    "def binomial_price(option, bsm_process, steps):\n",
    "    binomial_engine = ql.BinomialVanillaEngine(bsm_process, \"crr\", steps)\n",
    "    option.setPricingEngine(binomial_engine)\n",
    "    return option.NPV()\n",
    "\n",
    "steps = 200 #range(2, 200, 1)\n",
    "\n",
    "#BinomialTree-european option\n",
    "bi_price = binomial_price(european_option, bsm_process, steps)\n",
    "print (\"The binomial tree price of european option is\" , bi_price)\n",
    "\n",
    "#BinomialTree-american option\n",
    "bi_price = binomial_price(american_option, bsm_process, steps)\n",
    "print (\"The binomial tree price of american option is\" , bi_price)\n",
    "\n",
    "#BinomialTree-bermudan option\n",
    "bi_price = binomial_price(bermudan_option, bsm_process, steps)\n",
    "print (\"The binomial tree price of bermudan option is\" , bi_price)"
   ]
  },
  {
   "cell_type": "markdown",
   "metadata": {},
   "source": [
    "Pricing using Finite Differential method"
   ]
  },
  {
   "cell_type": "code",
   "execution_count": 8,
   "metadata": {},
   "outputs": [
    {
     "name": "stdout",
     "output_type": "stream",
     "text": [
      "The FD price of European_Option_BSM is 7.647035245372445\n",
      "The FD price of American_Option is 7.75144071693224\n",
      "The FD price of Bermudan_Option is 7.750831840059611\n",
      "The Heston FD price of European Option is 7.355566545831384\n",
      "The Heston FD price of American Option is 7.485596639090531\n"
     ]
    }
   ],
   "source": [
    "#FDEngine-EuropeanOption\n",
    "engine_FD = ql.FDEuropeanEngine(bsm_process,\n",
    "                            timeSteps=100,\n",
    "                            gridPoints=100,\n",
    "                            timeDependent=False)\n",
    "european_option.setPricingEngine(engine_FD)\n",
    "FD_price = european_option.NPV()\n",
    "print (\"The FD price of European_Option_BSM is\" , FD_price)\n",
    "\n",
    "#FDEngine-AmericanOption\n",
    "engine_FD = ql.FDAmericanEngine(bsm_process,\n",
    "                            timeSteps=100,\n",
    "                            gridPoints=100,\n",
    "                            timeDependent=False)\n",
    "american_option.setPricingEngine(engine_FD)\n",
    "FD_price = american_option.NPV()\n",
    "print (\"The FD price of American_Option is\" , FD_price)\n",
    "\n",
    "#FDEngine-BermudanOption\n",
    "engine_FD = ql.FDBermudanEngine(bsm_process,\n",
    "                            timeSteps=100,\n",
    "                            gridPoints=100,\n",
    "                            timeDependent=False)\n",
    "bermudan_option.setPricingEngine(engine_FD)\n",
    "FD_price = bermudan_option.NPV()\n",
    "print (\"The FD price of Bermudan_Option is\" , FD_price)\n",
    "\n",
    "\n",
    "#FDHestonEngine-EuropeanOption\n",
    "h_engine_FD = ql.FdHestonVanillaEngine(ql.HestonModel(heston_process))\n",
    "european_option.setPricingEngine(h_engine_FD)\n",
    "h_FD_price = european_option.NPV()\n",
    "print (\"The Heston FD price of European Option is\" , h_FD_price)\n",
    "\n",
    "#FDHestonEngine-AmericanOption\n",
    "american_option.setPricingEngine(h_engine_FD)\n",
    "h_FD_price = american_option.NPV()\n",
    "print (\"The Heston FD price of American Option is\" , h_FD_price)"
   ]
  },
  {
   "cell_type": "markdown",
   "metadata": {},
   "source": [
    "Pricing using Monte Carlo method"
   ]
  },
  {
   "cell_type": "code",
   "execution_count": 9,
   "metadata": {},
   "outputs": [
    {
     "name": "stdout",
     "output_type": "stream",
     "text": [
      "The MC price of European Option is 7.637921894675486\n",
      "The MC price of American Option is 7.703999300955842\n"
     ]
    }
   ],
   "source": [
    "#MCEngine-European Option\n",
    "engine_MC = ql.MCEuropeanEngine(bsm_process, \"PseudoRandom\",\n",
    "                            timeSteps=20,\n",
    "                            requiredSamples=2500000)\n",
    "\n",
    "european_option.setPricingEngine(engine_MC)\n",
    "MC_price = european_option.NPV()\n",
    "print (\"The MC price of European Option is\" , MC_price)\n",
    "\n",
    "#MCEngine-American Option\n",
    "engine_MC = ql.MCAmericanEngine(bsm_process, \"PseudoRandom\",\n",
    "                            timeSteps=20,\n",
    "                            requiredSamples=2500000)\n",
    "\n",
    "american_option.setPricingEngine(engine_MC)\n",
    "MC_price = american_option.NPV()\n",
    "print (\"The MC price of American Option is\" , MC_price)"
   ]
  },
  {
   "cell_type": "code",
   "execution_count": null,
   "metadata": {},
   "outputs": [],
   "source": []
  }
 ],
 "metadata": {
  "kernelspec": {
   "display_name": "Python 3",
   "language": "python",
   "name": "python3"
  },
  "language_info": {
   "codemirror_mode": {
    "name": "ipython",
    "version": 3
   },
   "file_extension": ".py",
   "mimetype": "text/x-python",
   "name": "python",
   "nbconvert_exporter": "python",
   "pygments_lexer": "ipython3",
   "version": "3.7.0"
  }
 },
 "nbformat": 4,
 "nbformat_minor": 2
}
